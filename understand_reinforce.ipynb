{
 "cells": [
  {
   "cell_type": "code",
   "execution_count": 2,
   "metadata": {},
   "outputs": [
    {
     "data": {
      "text/plain": [
       "<matplotlib.image.AxesImage at 0x7f9be3ed82e8>"
      ]
     },
     "execution_count": 2,
     "metadata": {},
     "output_type": "execute_result"
    },
    {
     "data": {
      "image/png": "[encoded data removed]",
      "text/plain": [
       "<Figure size 432x288 with 1 Axes>"
      ]
     },
     "metadata": {
      "needs_background": "dark"
     },
     "output_type": "display_data"
    }
   ],
   "source": [
    "import gym\n",
    "import numpy as np\n",
    "import pandas as pd\n",
    "import tensorflow as tf\n",
    "from tensorflow.keras.layers import Dense\n",
    "from tensorflow.keras import Model\n",
    "import matplotlib.pyplot as plt\n",
    "%matplotlib inline\n",
    "\n",
    "env = gym.make(\"CartPole-v0\")\n",
    "\n",
    "# gym compatibility: unwrap TimeLimit\n",
    "if hasattr(env, 'env'):\n",
    "    env = env.env\n",
    "\n",
    "env.reset()\n",
    "n_actions = env.action_space.n\n",
    "state_dim = env.observation_space.shape\n",
    "\n",
    "plt.imshow(env.render(\"rgb_array\"))"
   ]
  },
  {
   "cell_type": "code",
   "execution_count": 3,
   "metadata": {},
   "outputs": [],
   "source": [
    "class PolicyApproximator(Model):\n",
    "    def __init__(self, action_dim):\n",
    "        super().__init__()\n",
    "        self.d1 = Dense(16, activation='relu', name='dense1')\n",
    "        self.d2 = Dense(8, activation='relu', name='dense2')\n",
    "       # self.d3 = Dense(32, activation='relu', name='dense3')\n",
    "       # self.d4 = Dense(16, activation='relu', name='dense4')\n",
    "        self.d5 = Dense(2, activation='relu')\n",
    "\n",
    "    def call(self, x):\n",
    "        x = tf.expand_dims(x, 0)\n",
    "        x = self.d1(x)\n",
    "        x = self.d2(x)\n",
    "     #   x = self.d3(x)\n",
    "     #   x = self.d4(x)\n",
    "        return self.d5(x)"
   ]
  },
  {
   "cell_type": "code",
   "execution_count": 4,
   "metadata": {},
   "outputs": [],
   "source": [
    "def policy(states):\n",
    "    return tf.nn.softmax(policy_approximator(states))\n",
    "\n",
    "def log_policy(states):\n",
    "    return tf.nn.log_softmax(policy_approximator(states))\n",
    "\n",
    "def get_action_probs(states):\n",
    "    log_action_probs = tf.squeeze(log_policy(states), 0)\n",
    "    action_probs = tf.squeeze(policy(states), 0)\n",
    "    return log_action_probs, action_probs\n",
    "\n",
    "def get_cumulative_rewards(rewards,  gamma=0.99):\n",
    "    cumulative_returns = np.zeros(len(rewards))\n",
    "    G = 0\n",
    "    for i in range(len(rewards) - 1, -1, -1):\n",
    "        G = gamma * G + rewards[i]\n",
    "        cumulative_returns[i] = G\n",
    "    return cumulative_returns\n",
    "\n",
    "def compute_objective(log_action_probs, actions, cumulative_returns):\n",
    "    log_action_taken_probs = tf.gather_nd(log_action_probs, tf.stack([tf.range(log_action_probs.shape[0]), actions], axis=1))\n",
    "    J = tf.math.reduce_mean(tf.math.multiply(log_action_taken_probs, cumulative_returns))\n",
    "    return J\n",
    "\n",
    "def compute_entropy(action_probs, log_action_probs):\n",
    "    return - tf.math.reduce_sum(tf.math.multiply(action_probs, log_action_probs))\n",
    "\n"
   ]
  },
  {
   "cell_type": "code",
   "execution_count": 5,
   "metadata": {},
   "outputs": [],
   "source": [
    "def generate_session(t_max=1000):\n",
    "    \"\"\" \n",
    "    play a full session with REINFORCE agent and train at the session end.\n",
    "    returns sequences of states, actions and rewards\n",
    "    \"\"\"\n",
    "\n",
    "    # arrays to record session\n",
    "    states, actions, rewards = np.asarray([], dtype='float32'), [], []\n",
    "    s = env.reset().astype('float32')\n",
    "\n",
    "    for t in range(t_max):\n",
    "\n",
    "        # action probabilities and log probabilities\n",
    "        log_action_probs, action_probs = get_action_probs(s)\n",
    "        log_action_probs = log_action_probs.numpy().reshape(2,)\n",
    "        action_probs = action_probs.numpy().reshape(2,)\n",
    "        # choose an action\n",
    "        action_t = np.random.choice([0, 1], p=action_probs)\n",
    "        # perform a step\n",
    "        new_s, r, done, info = env.step(action_t)\n",
    "\n",
    "        # record session history to train later\n",
    "        states = np.concatenate((states, s), axis=0)\n",
    "        actions.append(action_t)\n",
    "        rewards.append(r)\n",
    "\n",
    "        s = new_s.astype('float32')\n",
    "        if done:\n",
    "            break\n",
    "            \n",
    "    return states.reshape(-1, s.shape[0]), actions, rewards"
   ]
  },
  {
   "cell_type": "code",
   "execution_count": 22,
   "metadata": {},
   "outputs": [],
   "source": [
    "# Create an instance of the model\n",
    "policy_approximator = PolicyApproximator(action_dim=env.action_space.n)\n",
    "\n",
    "# Your code: define optimizers\n",
    "optimizer = tf.keras.optimizers.Adam()"
   ]
  },
  {
   "cell_type": "code",
   "execution_count": 23,
   "metadata": {},
   "outputs": [],
   "source": [
    "def train_on_session(states, actions, rewards, gamma=0.99, entropy_coef=1e-2):\n",
    "\n",
    "    # Gradient descent step\n",
    "    with tf.GradientTape() as tape:\n",
    "        # cast everything into tensorflow tensors\n",
    "        states = tf.Variable(states, dtype='float32', name='states')\n",
    "        actions = tf.Variable(actions, dtype='int32', name='actions')\n",
    "        cumulative_returns = get_cumulative_rewards(rewards, gamma)\n",
    "        cumulative_returns = tf.Variable(cumulative_returns, dtype='float32', name='cumulative_returns')\n",
    "        \n",
    "        # Compute action probs\n",
    "        log_action_probs, action_probs = get_action_probs(states)\n",
    "        \n",
    "        # Compute entropy\n",
    "        entropy = compute_entropy(log_action_probs, action_probs)\n",
    "        \n",
    "        # Compute objective\n",
    "        J = compute_objective(log_action_probs, actions, cumulative_returns)\n",
    "        loss = -J - entropy_coef * entropy\n",
    "        \n",
    "    \n",
    "    gradients = tape.gradient(loss, policy_approximator.trainable_variables, )\n",
    "    optimizer.apply_gradients(zip(gradients, policy_approximator.trainable_variables))        \n",
    "\n",
    "    return np.sum(rewards)"
   ]
  },
  {
   "cell_type": "code",
   "execution_count": 24,
   "metadata": {},
   "outputs": [
    {
     "name": "stdout",
     "output_type": "stream",
     "text": [
      "Episode number 0 and the reward is 35.0\n",
      "Episode number 100 and the reward is 23.87\n",
      "Episode number 200 and the reward is 25.17\n",
      "Episode number 300 and the reward is 26.31\n",
      "Episode number 400 and the reward is 34.98\n",
      "Episode number 500 and the reward is 37.06\n",
      "Episode number 600 and the reward is 50.49\n",
      "Episode number 700 and the reward is 58.51\n",
      "Episode number 800 and the reward is 71.7\n",
      "Episode number 900 and the reward is 78.92\n",
      "Episode number 1000 and the reward is 127.07\n",
      "Episode number 1100 and the reward is 153.26\n",
      "Episode number 1200 and the reward is 137.27\n",
      "Episode number 1300 and the reward is 143.98\n",
      "Episode number 1400 and the reward is 172.35\n",
      "Episode number 1500 and the reward is 143.38\n",
      "Episode number 1600 and the reward is 148.83\n",
      "Episode number 1700 and the reward is 256.84\n",
      "Episode number 1800 and the reward is 228.65\n",
      "Episode number 1900 and the reward is 262.15\n",
      "Episode number 2000 and the reward is 215.34\n",
      "Episode number 2100 and the reward is 241.93\n",
      "Episode number 2200 and the reward is 257.82\n",
      "Episode number 2300 and the reward is 267.76\n",
      "Episode number 2400 and the reward is 169.78\n",
      "Episode number 2500 and the reward is 211.43\n",
      "Episode number 2600 and the reward is 249.29\n",
      "Episode number 2700 and the reward is 214.33\n",
      "Episode number 2800 and the reward is 215.65\n",
      "Episode number 2900 and the reward is 203.05\n",
      "Episode number 3000 and the reward is 213.51\n",
      "Episode number 3100 and the reward is 270.8\n",
      "Episode number 3200 and the reward is 244.04\n",
      "Episode number 3300 and the reward is 259.54\n",
      "Episode number 3400 and the reward is 269.1\n",
      "Episode number 3500 and the reward is 163.85\n",
      "Episode number 3600 and the reward is 214.32\n",
      "Episode number 3700 and the reward is 220.68\n",
      "Episode number 3800 and the reward is 246.55\n",
      "Episode number 3900 and the reward is 219.43\n",
      "Episode number 4000 and the reward is 200.49\n",
      "Episode number 4100 and the reward is 159.86\n",
      "Episode number 4200 and the reward is 188.8\n",
      "Episode number 4300 and the reward is 115.26\n",
      "Episode number 4400 and the reward is 113.51\n",
      "Episode number 4500 and the reward is 213.35\n",
      "You Win!\n"
     ]
    }
   ],
   "source": [
    "global_rewards = []\n",
    "\n",
    "for i in range(10000):\n",
    "\n",
    "    rewards = train_on_session(*generate_session()[0:3]) # generate new sessions\n",
    "    global_rewards.append(rewards)\n",
    "    \n",
    "    if i % 100 == 0:\n",
    "        print(\"Episode number {} and the reward is {}\".format(i,np.mean(global_rewards[-100:])))\n",
    "\n",
    "    if np.mean(global_rewards[-100:]) > 300:\n",
    "        print(\"You Win!\")\n",
    "        break"
   ]
  },
  {
   "cell_type": "code",
   "execution_count": 27,
   "metadata": {},
   "outputs": [],
   "source": [
    "policy_approximator.save_weights('model_weights/trained_policy_REINFORCE')"
   ]
  },
  {
   "cell_type": "code",
   "execution_count": 28,
   "metadata": {},
   "outputs": [],
   "source": [
    "# record sessions\n",
    "import gym.wrappers\n",
    "env = gym.wrappers.Monitor(gym.make(\"CartPole-v0\"),\n",
    "                           directory=\"videos\", force=True)\n",
    "sessions = [generate_session() for _ in range(100)]\n",
    "env.close()"
   ]
  },
  {
   "cell_type": "code",
   "execution_count": 30,
   "metadata": {},
   "outputs": [
    {
     "data": {
      "text/html": [
       "\n",
       "<video width=\"640\" height=\"480\" controls>\n",
       "  <source src=\"./videos/openaigym.video.0.24841.video000008.mp4\" type=\"video/mp4\">\n",
       "</video>\n"
      ],
      "text/plain": [
       "<IPython.core.display.HTML object>"
      ]
     },
     "execution_count": 30,
     "metadata": {},
     "output_type": "execute_result"
    }
   ],
   "source": [
    "# show video\n",
    "from IPython.display import HTML\n",
    "import os\n",
    "\n",
    "video_names = list(\n",
    "    filter(lambda s: s.endswith(\".mp4\"), os.listdir(\"./videos/\")))\n",
    "\n",
    "HTML(\"\"\"\n",
    "<video width=\"640\" height=\"480\" controls>\n",
    "  <source src=\"{}\" type=\"video/mp4\">\n",
    "</video>\n",
    "\"\"\".format(\"./videos/\"+video_names[-1]))  # this may or may not be _last_ video. Try other indices"
   ]
  }
 ],
 "metadata": {
  "kernelspec": {
   "display_name": "Python 3",
   "language": "python",
   "name": "python3"
  },
  "language_info": {
   "codemirror_mode": {
    "name": "ipython",
    "version": 3
   },
   "file_extension": ".py",
   "mimetype": "text/x-python",
   "name": "python",
   "nbconvert_exporter": "python",
   "pygments_lexer": "ipython3",
   "version": "3.6.9"
  }
 },
 "nbformat": 4,
 "nbformat_minor": 4
}
